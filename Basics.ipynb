{
 "cells": [
  {
   "cell_type": "code",
   "execution_count": 10,
   "metadata": {
    "collapsed": true
   },
   "outputs": [],
   "source": [
    "import tensorflow as tf\n",
    "import numpy as np"
   ]
  },
  {
   "cell_type": "code",
   "execution_count": 2,
   "metadata": {
    "collapsed": true
   },
   "outputs": [],
   "source": [
    "a = tf.constant(2, name='a')\n",
    "b = tf.constant(3, name='b')\n",
    "x = tf.add(a,b,name='x')"
   ]
  },
  {
   "cell_type": "code",
   "execution_count": 6,
   "metadata": {},
   "outputs": [
    {
     "name": "stdout",
     "output_type": "stream",
     "text": [
      "5\n",
      "node {\n",
      "  name: \"a\"\n",
      "  op: \"Const\"\n",
      "  attr {\n",
      "    key: \"dtype\"\n",
      "    value {\n",
      "      type: DT_INT32\n",
      "    }\n",
      "  }\n",
      "  attr {\n",
      "    key: \"value\"\n",
      "    value {\n",
      "      tensor {\n",
      "        dtype: DT_INT32\n",
      "        tensor_shape {\n",
      "        }\n",
      "        int_val: 2\n",
      "      }\n",
      "    }\n",
      "  }\n",
      "}\n",
      "node {\n",
      "  name: \"b\"\n",
      "  op: \"Const\"\n",
      "  attr {\n",
      "    key: \"dtype\"\n",
      "    value {\n",
      "      type: DT_INT32\n",
      "    }\n",
      "  }\n",
      "  attr {\n",
      "    key: \"value\"\n",
      "    value {\n",
      "      tensor {\n",
      "        dtype: DT_INT32\n",
      "        tensor_shape {\n",
      "        }\n",
      "        int_val: 3\n",
      "      }\n",
      "    }\n",
      "  }\n",
      "}\n",
      "node {\n",
      "  name: \"x\"\n",
      "  op: \"Add\"\n",
      "  input: \"a\"\n",
      "  input: \"b\"\n",
      "  attr {\n",
      "    key: \"T\"\n",
      "    value {\n",
      "      type: DT_INT32\n",
      "    }\n",
      "  }\n",
      "}\n",
      "versions {\n",
      "  producer: 22\n",
      "}\n",
      "\n"
     ]
    }
   ],
   "source": [
    "with tf.Session() as sess:\n",
    "    print(sess.run(x))\n",
    "    print(sess.graph.as_graph_def())\n"
   ]
  },
  {
   "cell_type": "code",
   "execution_count": 19,
   "metadata": {},
   "outputs": [
    {
     "name": "stdout",
     "output_type": "stream",
     "text": [
      "<tf.Variable 'scalar_5:0' shape=() dtype=int32_ref> <tf.Variable 'vector_5:0' shape=(2,) dtype=int32_ref> <tf.Variable 'matrix_5:0' shape=(2, 2) dtype=int32_ref>\n",
      "2\n"
     ]
    }
   ],
   "source": [
    "a = tf.Variable(2, name='scalar')\n",
    "\n",
    "b = tf.Variable([2,3], name='vector')\n",
    "\n",
    "c = tf.Variable([[3,4],[7,5]], name='matrix')\n",
    "\n",
    "init = tf.global_variables_initializer()\n",
    "with tf.Session() as sess:\n",
    "    sess.run(init)\n",
    "    print(a,b,c)\n",
    "    print(a.eval())"
   ]
  },
  {
   "cell_type": "code",
   "execution_count": 20,
   "metadata": {},
   "outputs": [
    {
     "name": "stdout",
     "output_type": "stream",
     "text": [
      "[[-0.06560569 -1.23500156  1.03178835 -0.52265948 -0.5822584   0.45375594\n",
      "  -0.87860233 -1.31668413 -0.6153174   0.69317657]\n",
      " [ 0.90602463  1.87229967  0.67114508  0.03714495  0.0352867   0.21146338\n",
      "   0.09277742  1.78713822 -0.29338956  0.95362633]\n",
      " [-0.20281275 -0.73693877 -1.64553702 -0.75471926 -0.11042299 -1.13908434\n",
      "   0.96744066 -1.1170131   0.54639071 -1.76134324]\n",
      " [-1.50588977 -1.06184888  0.53588641  0.27327144  0.86615491  0.11185234\n",
      "   0.43775028  0.10916824 -0.83866656 -0.15214396]\n",
      " [ 1.0480392  -0.63000602 -0.91946417 -0.00284018  0.12912954  1.23955309\n",
      "   0.19173276  0.16182993  1.15004289  0.00487812]\n",
      " [ 0.32634291 -1.19532132 -1.80497909 -0.06936368 -0.70210111  0.2976996\n",
      "  -0.06134812  0.67661107  0.06082059  0.5844425 ]\n",
      " [-1.99220419 -0.83020437 -0.38009402 -0.47116515  0.648615   -0.68670303\n",
      "  -0.13044819 -0.0580251   0.66249108 -1.87655878]\n",
      " [ 1.02615571  0.27343312  0.63417757  0.03595144 -0.9064514  -0.77068835\n",
      "  -0.24258412 -1.2236526  -1.00582325 -0.06010561]\n",
      " [ 0.44124031  0.63331962  0.35596755  0.92938322  0.09701801 -0.41120237\n",
      "  -0.50645858  0.76509011  0.06786342  1.08348954]\n",
      " [-0.91139799  1.461339   -0.4227899   1.88058782 -0.11292286  0.28645337\n",
      "   0.80928648 -0.81088871 -0.37392953  0.5993219 ]]\n"
     ]
    }
   ],
   "source": [
    "W = tf.Variable(tf.truncated_normal([10,10]))\n",
    "with tf.Session() as sess:\n",
    "    sess.run(W.initializer)\n",
    "    print(W.eval())"
   ]
  },
  {
   "cell_type": "code",
   "execution_count": 21,
   "metadata": {},
   "outputs": [
    {
     "name": "stdout",
     "output_type": "stream",
     "text": [
      "10\n"
     ]
    }
   ],
   "source": [
    "W = tf.Variable(10)\n",
    "W.assign(100)\n",
    "with tf.Session() as sess:\n",
    "    sess.run(W.initializer)\n",
    "    print(W.eval())"
   ]
  },
  {
   "cell_type": "code",
   "execution_count": 22,
   "metadata": {},
   "outputs": [
    {
     "name": "stdout",
     "output_type": "stream",
     "text": [
      "100\n"
     ]
    }
   ],
   "source": [
    "W = tf.Variable(10)\n",
    "assign_op = W.assign(100)\n",
    "with tf.Session() as sess:\n",
    "    sess.run(W.initializer)\n",
    "    sess.run(assign_op)\n",
    "    print(W.eval())"
   ]
  },
  {
   "cell_type": "code",
   "execution_count": 24,
   "metadata": {},
   "outputs": [
    {
     "name": "stdout",
     "output_type": "stream",
     "text": [
      "20\n",
      "18\n"
     ]
    }
   ],
   "source": [
    "my_var = tf.Variable(10)\n",
    "with tf.Session() as sess:\n",
    "    sess.run(my_var.initializer)\n",
    "    sess.run(my_var.assign_add(10))\n",
    "    print(my_var.eval())\n",
    "    sess.run(my_var.assign_sub(2)) \n",
    "    print(my_var.eval())\n"
   ]
  },
  {
   "cell_type": "code",
   "execution_count": null,
   "metadata": {
    "collapsed": true
   },
   "outputs": [],
   "source": []
  }
 ],
 "metadata": {
  "kernelspec": {
   "display_name": "Python 3",
   "language": "python",
   "name": "python3"
  },
  "language_info": {
   "codemirror_mode": {
    "name": "ipython",
    "version": 3
   },
   "file_extension": ".py",
   "mimetype": "text/x-python",
   "name": "python",
   "nbconvert_exporter": "python",
   "pygments_lexer": "ipython3",
   "version": "3.6.2"
  }
 },
 "nbformat": 4,
 "nbformat_minor": 2
}

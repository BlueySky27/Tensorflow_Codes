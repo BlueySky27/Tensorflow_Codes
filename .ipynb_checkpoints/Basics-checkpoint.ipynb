{
 "cells": [
  {
   "cell_type": "code",
   "execution_count": 1,
   "metadata": {
    "collapsed": true
   },
   "outputs": [],
   "source": [
    "import tensorflow as tf\n",
    "import numpy as np"
   ]
  },
  {
   "cell_type": "code",
   "execution_count": 2,
   "metadata": {
    "collapsed": true
   },
   "outputs": [],
   "source": [
    "a = tf.constant(2, name='a')\n",
    "b = tf.constant(3, name='b')\n",
    "x = tf.add(a,b,name='x')"
   ]
  },
  {
   "cell_type": "code",
   "execution_count": 3,
   "metadata": {},
   "outputs": [
    {
     "name": "stdout",
     "output_type": "stream",
     "text": [
      "5\n",
      "node {\n",
      "  name: \"a\"\n",
      "  op: \"Const\"\n",
      "  attr {\n",
      "    key: \"dtype\"\n",
      "    value {\n",
      "      type: DT_INT32\n",
      "    }\n",
      "  }\n",
      "  attr {\n",
      "    key: \"value\"\n",
      "    value {\n",
      "      tensor {\n",
      "        dtype: DT_INT32\n",
      "        tensor_shape {\n",
      "        }\n",
      "        int_val: 2\n",
      "      }\n",
      "    }\n",
      "  }\n",
      "}\n",
      "node {\n",
      "  name: \"b\"\n",
      "  op: \"Const\"\n",
      "  attr {\n",
      "    key: \"dtype\"\n",
      "    value {\n",
      "      type: DT_INT32\n",
      "    }\n",
      "  }\n",
      "  attr {\n",
      "    key: \"value\"\n",
      "    value {\n",
      "      tensor {\n",
      "        dtype: DT_INT32\n",
      "        tensor_shape {\n",
      "        }\n",
      "        int_val: 3\n",
      "      }\n",
      "    }\n",
      "  }\n",
      "}\n",
      "node {\n",
      "  name: \"x\"\n",
      "  op: \"Add\"\n",
      "  input: \"a\"\n",
      "  input: \"b\"\n",
      "  attr {\n",
      "    key: \"T\"\n",
      "    value {\n",
      "      type: DT_INT32\n",
      "    }\n",
      "  }\n",
      "}\n",
      "versions {\n",
      "  producer: 22\n",
      "}\n",
      "\n"
     ]
    }
   ],
   "source": [
    "with tf.Session() as sess:\n",
    "    print(sess.run(x))\n",
    "    print(sess.graph.as_graph_def())\n"
   ]
  },
  {
   "cell_type": "code",
   "execution_count": 4,
   "metadata": {},
   "outputs": [
    {
     "name": "stdout",
     "output_type": "stream",
     "text": [
      "<tf.Variable 'scalar:0' shape=() dtype=int32_ref> <tf.Variable 'vector:0' shape=(2,) dtype=int32_ref> <tf.Variable 'matrix:0' shape=(2, 2) dtype=int32_ref>\n",
      "2\n"
     ]
    }
   ],
   "source": [
    "a = tf.Variable(2, name='scalar')\n",
    "\n",
    "b = tf.Variable([2,3], name='vector')\n",
    "\n",
    "c = tf.Variable([[3,4],[7,5]], name='matrix')\n",
    "\n",
    "init = tf.global_variables_initializer()\n",
    "with tf.Session() as sess:\n",
    "    sess.run(init)\n",
    "    print(a,b,c)\n",
    "    print(a.eval())"
   ]
  },
  {
   "cell_type": "code",
   "execution_count": 5,
   "metadata": {},
   "outputs": [
    {
     "name": "stdout",
     "output_type": "stream",
     "text": [
      "[[ 0.25585648 -1.47212923 -0.91870612 -1.28853655  0.70616221  0.34316576\n",
      "   0.8866182   0.74307555 -0.81952345 -0.61743474]\n",
      " [ 0.59258908 -0.59819567 -0.58377904  1.19512534  0.23610362 -0.9510082\n",
      "  -0.92051363  0.28351143  1.3389138   0.93571717]\n",
      " [ 0.87336457  0.32415038 -0.55410248  1.43050575  1.46641374 -0.73070645\n",
      "   1.00642562 -1.00743389  1.2875942   0.53367239]\n",
      " [ 0.36476129 -0.01560878 -1.34001982  0.12602781  0.83115637  0.59675068\n",
      "   1.11486304 -1.21767497 -0.19458434 -0.49658769]\n",
      " [-0.23150013 -1.84726763 -0.84321117 -0.39833477 -1.76455832 -0.72096282\n",
      "  -1.14018714  0.80553907 -0.64363265  0.53836644]\n",
      " [-0.34720087 -1.0676477   0.35415581 -0.71292657 -1.08543897  0.82179105\n",
      "  -0.93007618  0.01558677  0.10124619 -1.04205072]\n",
      " [ 0.1324604  -0.39885905 -0.78383452  0.88888037 -0.89970225 -0.08747017\n",
      "  -1.28606474  0.72509748  0.23101147  0.79276645]\n",
      " [-0.75024348 -0.16327107 -1.54463255 -0.33811539  0.48378217  1.29857135\n",
      "   0.21551377 -0.14905559  0.36526033 -0.48722664]\n",
      " [-1.70847952  0.05421716 -1.19373298  0.51229101  0.92041492  0.8889392\n",
      "   0.02051522  0.87588751 -1.39052939 -1.99848437]\n",
      " [ 0.70674378  0.37128526 -0.55793363  1.28511178  0.61050075 -1.30504036\n",
      "  -1.39018273 -0.42003837 -0.11653525 -1.75143719]]\n"
     ]
    }
   ],
   "source": [
    "W = tf.Variable(tf.truncated_normal([10,10]))\n",
    "with tf.Session() as sess:\n",
    "    sess.run(W.initializer)\n",
    "    print(W.eval())"
   ]
  },
  {
   "cell_type": "code",
   "execution_count": 6,
   "metadata": {},
   "outputs": [
    {
     "name": "stdout",
     "output_type": "stream",
     "text": [
      "10\n"
     ]
    }
   ],
   "source": [
    "W = tf.Variable(10)\n",
    "W.assign(100)\n",
    "with tf.Session() as sess:\n",
    "    sess.run(W.initializer)\n",
    "    print(W.eval())"
   ]
  },
  {
   "cell_type": "code",
   "execution_count": 7,
   "metadata": {},
   "outputs": [
    {
     "name": "stdout",
     "output_type": "stream",
     "text": [
      "100\n"
     ]
    }
   ],
   "source": [
    "W = tf.Variable(10)\n",
    "assign_op = W.assign(100)\n",
    "with tf.Session() as sess:\n",
    "    sess.run(W.initializer)\n",
    "    sess.run(assign_op)\n",
    "    print(W.eval())"
   ]
  },
  {
   "cell_type": "code",
   "execution_count": 8,
   "metadata": {},
   "outputs": [
    {
     "name": "stdout",
     "output_type": "stream",
     "text": [
      "20\n",
      "18\n"
     ]
    }
   ],
   "source": [
    "my_var = tf.Variable(10)\n",
    "with tf.Session() as sess:\n",
    "    sess.run(my_var.initializer)\n",
    "    sess.run(my_var.assign_add(10))\n",
    "    print(my_var.eval())\n",
    "    sess.run(my_var.assign_sub(2)) \n",
    "    print(my_var.eval())\n"
   ]
  },
  {
   "cell_type": "code",
   "execution_count": 9,
   "metadata": {},
   "outputs": [
    {
     "name": "stdout",
     "output_type": "stream",
     "text": [
      "30.0\n"
     ]
    }
   ],
   "source": [
    "sess = tf.InteractiveSession()\n",
    "a = tf.constant(5.0)\n",
    "b = tf.constant(6.0)\n",
    "c = a * b\n",
    "print(c.eval())\n",
    "sess.close()"
   ]
  },
  {
   "cell_type": "code",
   "execution_count": 10,
   "metadata": {},
   "outputs": [
    {
     "name": "stdout",
     "output_type": "stream",
     "text": [
      "[ 3.  6.  9.]\n"
     ]
    }
   ],
   "source": [
    "a = tf.placeholder(tf.float32, shape=[3])\n",
    "b = tf.constant([3,3,3], tf.float32)\n",
    "c = a * b\n",
    "with tf.Session() as sess:\n",
    "    print(sess.run(c,{a:[1,2,3]}))\n",
    "    "
   ]
  },
  {
   "cell_type": "code",
   "execution_count": null,
   "metadata": {
    "collapsed": true
   },
   "outputs": [],
   "source": []
  }
 ],
 "metadata": {
  "kernelspec": {
   "display_name": "Python 3",
   "language": "python",
   "name": "python3"
  },
  "language_info": {
   "codemirror_mode": {
    "name": "ipython",
    "version": 3
   },
   "file_extension": ".py",
   "mimetype": "text/x-python",
   "name": "python",
   "nbconvert_exporter": "python",
   "pygments_lexer": "ipython3",
   "version": "3.6.2"
  }
 },
 "nbformat": 4,
 "nbformat_minor": 2
}
